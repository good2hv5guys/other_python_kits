{
 "cells": [
  {
   "cell_type": "code",
   "execution_count": 1,
   "id": "1344c331-a414-4d0b-9176-1a14cf2a8f66",
   "metadata": {},
   "outputs": [],
   "source": [
    "from tabulate import tabulate\n",
    "from binance.spot import Spot\n",
    "client = Spot()\n",
    "\n",
    "class spot:\n",
    "    def __init__(self, name, volume, original_price = 0):\n",
    "        self.name = name\n",
    "        self.volume = volume\n",
    "        self.pair_name = name.replace(\"/\",\"\")\n",
    "        if original_price == 0:\n",
    "            self.original_price = self.price()\n",
    "        else:\n",
    "            self.original_price = original_price\n",
    "        \n",
    "    def price(self):\n",
    "        if self.name == \"USDT/USDT\":\n",
    "            return 1\n",
    "        else:\n",
    "            return float(client.klines(self.pair_name, \"1m\", limit=10)[-1][1])\n",
    "    \n",
    "    def current_value(self):\n",
    "        if self.name == \"USDT/USDT\":\n",
    "            return float(1 * self.volume)\n",
    "        else:\n",
    "            return float(client.klines(self.pair_name, \"1m\", limit=10)[-1][1]) * self.volume\n",
    "        \n",
    "    def origional_value(self):\n",
    "        return self.original_price * self.volume\n",
    "    \n",
    "    def profit(self):\n",
    "        return self.current_value()-self.origional_value()\n",
    "        \n",
    "class portfolio:\n",
    "    def __init__(self,holding):\n",
    "        self.holding = holding\n",
    "        self.names = [c.name for c in holding]\n",
    "        self.pair_names = [c.pair_name for c in holding]\n",
    "        self.volumes = [c.volume for c in holding]\n",
    "        self.original_prices = [round(c.original_price,2) for c in holding]\n",
    "        self.origional_values = [round(c.origional_value(),2) for c in holding]\n",
    "        \n",
    "    def current_values(self):\n",
    "        return [round(c.current_value(),2) for c in self.holding]\n",
    "    \n",
    "    def prices(self):\n",
    "        return [round(c.price(),2) for c in self.holding]\n",
    "    \n",
    "    def profits(self):\n",
    "        return [round(c.profit(),2) for c in self.holding]\n",
    "    \n",
    "    def weights(self):\n",
    "        return [round(c.current_value()*100 / sum(self.current_values()),2) for c in self.holding]\n",
    "    \n",
    "    def performance(self):\n",
    "        headers = [\"Total\"] + self.names\n",
    "        table = [[\"volumes\", \" \"] + p.volumes\n",
    "                 ,[\"original_prices\", \" \"] + self.original_prices\n",
    "                 ,[\"origional_values\", \" \"] + self.origional_values\n",
    "                 ,[\"prices\", \" \"] + self.prices()\n",
    "                 ,[\" \", \" \"]*len(self.names)\n",
    "                 ,[\"current_value\", round(sum(self.current_values()),2)] + self.current_values()\n",
    "                 ,[\"profits\", round(sum(self.profits()),2)] + self.profits()\n",
    "                 ,[\"weights\", str(round(sum(p.weights()),2))+\"%\"] + [str(x)+\"%\" for x in self.weights()]]\n",
    "        print(tabulate(table, headers=headers))\n",
    "\n",
    "        \n"
   ]
  },
  {
   "cell_type": "code",
   "execution_count": 2,
   "id": "8d6782f5-45cb-4762-ac6a-06c5ebd97fb7",
   "metadata": {},
   "outputs": [],
   "source": [
    "p_list = [spot(\"USDT/USDT\",1000)]\n",
    "p_list.append(spot(\"BTC/USDT\",1,35000))\n",
    "p_list.append(spot(\"SOL/USDT\",100,50))\n",
    "p_list.append(spot(\"MATIC/USDT\",100))\n",
    "p_list.append(spot(\"UNI/USDT\",100))\n",
    "p_list.append(spot(\"STX/USDT\",100))\n",
    "p_list.append(spot(\"DYDX/USDT\",100))\n",
    "\n",
    "p = portfolio(p_list)"
   ]
  },
  {
   "cell_type": "code",
   "execution_count": 3,
   "id": "3b65cc3e-2dff-4342-914f-0f327c5b6193",
   "metadata": {},
   "outputs": [
    {
     "name": "stdout",
     "output_type": "stream",
     "text": [
      "                  Total     USDT/USDT    BTC/USDT    SOL/USDT    MATIC/USDT    UNI/USDT    STX/USDT    DYDX/USDT\n",
      "----------------  --------  -----------  ----------  ----------  ------------  ----------  ----------  -----------\n",
      "volumes                     1000         1           100         100           100         100         100\n",
      "original_prices             1            35000       50          0.78          6.2         0.63        3.6\n",
      "origional_values            1000         35000       5000        78.1          619.9       63.43       359.8\n",
      "prices                      1            37487.21    57.17       0.78          6.2         0.63        3.6\n",
      "\n",
      "current_value     45325.44  1000.0       37487.21    5717.0      78.1          619.9       63.43       359.8\n",
      "profits           3204.21   0.0          2487.21     717.0       0.0           0.0         0.0         0.0\n",
      "weights           100.01%   2.21%        82.7%       12.62%      0.17%         1.37%       0.14%       0.8%\n"
     ]
    }
   ],
   "source": [
    "p.performance()"
   ]
  },
  {
   "cell_type": "code",
   "execution_count": null,
   "id": "537bb187-ffe0-497b-9979-2569a3056187",
   "metadata": {},
   "outputs": [],
   "source": []
  },
  {
   "cell_type": "code",
   "execution_count": null,
   "id": "dba8f719-771f-4833-bda0-fe72c1a8ce4f",
   "metadata": {},
   "outputs": [],
   "source": []
  }
 ],
 "metadata": {
  "kernelspec": {
   "display_name": "Python 3 (ipykernel)",
   "language": "python",
   "name": "python3"
  },
  "language_info": {
   "codemirror_mode": {
    "name": "ipython",
    "version": 3
   },
   "file_extension": ".py",
   "mimetype": "text/x-python",
   "name": "python",
   "nbconvert_exporter": "python",
   "pygments_lexer": "ipython3",
   "version": "3.10.9"
  }
 },
 "nbformat": 4,
 "nbformat_minor": 5
}
